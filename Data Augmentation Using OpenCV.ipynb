{
 "cells": [
  {
   "cell_type": "code",
   "execution_count": 17,
   "id": "e1e1a8d0",
   "metadata": {},
   "outputs": [
    {
     "name": "stdout",
     "output_type": "stream",
     "text": [
      "Data augmentation for all folders complete.\n"
     ]
    }
   ],
   "source": [
    "import os\n",
    "import cv2\n",
    "\n",
    "# Define the parent folder containing subfolders with images\n",
    "parent_folder = \"dataset\"\n",
    "\n",
    "# Define the output folder for augmented data\n",
    "output_folder = \"augmented_dataset_opencv\"  # Change to your desired folder for augmented data\n",
    "\n",
    "# List of augmentation techniques to apply\n",
    "augmentation_techniques = {\n",
    "    \"rotate_90_clockwise\": cv2.ROTATE_90_CLOCKWISE,\n",
    "    \"rotate_90_counterclockwise\": cv2.ROTATE_90_COUNTERCLOCKWISE,\n",
    "    \"flip_horizontal\": 1,\n",
    "    \"flip_vertical\": 0,\n",
    "    \"brightness_increase\": 1.2,\n",
    "    \"brightness_decrease\": 0.8,\n",
    "    \"contrast_increase\": 1.5,\n",
    "    \"contrast_decrease\": 0.5,\n",
    "}\n",
    "\n",
    "# Create the output folder if it doesn't exist\n",
    "os.makedirs(output_folder, exist_ok=True)\n",
    "\n",
    "# Iterate through subfolders in the parent folder\n",
    "for subfolder in os.listdir(parent_folder):\n",
    "    subfolder_path = os.path.join(parent_folder, subfolder)\n",
    "\n",
    "    # Check if the subfolder is a directory\n",
    "    if os.path.isdir(subfolder_path):\n",
    "        # Create a subfolder in the output folder for the current subfolder\n",
    "        output_subfolder = os.path.join(output_folder, subfolder)\n",
    "        os.makedirs(output_subfolder, exist_ok=True)\n",
    "\n",
    "        # Iterate through image files in the current subfolder\n",
    "        for image_file in os.listdir(subfolder_path):\n",
    "            image_path = os.path.join(subfolder_path, image_file)\n",
    "\n",
    "            # Load the original image\n",
    "            image = cv2.imread(image_path)\n",
    "\n",
    "            if image is not None:\n",
    "                # Apply augmentation techniques\n",
    "                for technique_name, parameter in augmentation_techniques.items():\n",
    "                    if technique_name.startswith(\"rotate\"):\n",
    "                        augmented_image = cv2.rotate(image, parameter)\n",
    "                    elif technique_name == \"flip_horizontal\":\n",
    "                        augmented_image = cv2.flip(image, 1)\n",
    "                    elif technique_name == \"flip_vertical\":\n",
    "                        augmented_image = cv2.flip(image, 0)\n",
    "                    else:\n",
    "                        augmented_image = cv2.convertScaleAbs(image, alpha=parameter)\n",
    "\n",
    "                    augmented_image_path = os.path.join(output_subfolder, f\"{technique_name}_{image_file}\")\n",
    "\n",
    "                    # Save the augmented image\n",
    "                    cv2.imwrite(augmented_image_path, augmented_image)\n",
    "            else:\n",
    "                print(\"Error loading image:\", image_path)\n",
    "\n",
    "print(\"Data augmentation for all folders complete.\")\n"
   ]
  },
  {
   "cell_type": "code",
   "execution_count": null,
   "id": "9858519e",
   "metadata": {},
   "outputs": [],
   "source": []
  }
 ],
 "metadata": {
  "kernelspec": {
   "display_name": "myenv",
   "language": "python",
   "name": "mynev"
  },
  "language_info": {
   "codemirror_mode": {
    "name": "ipython",
    "version": 3
   },
   "file_extension": ".py",
   "mimetype": "text/x-python",
   "name": "python",
   "nbconvert_exporter": "python",
   "pygments_lexer": "ipython3",
   "version": "3.9.13"
  }
 },
 "nbformat": 4,
 "nbformat_minor": 5
}
