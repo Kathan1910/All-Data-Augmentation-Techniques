{
 "cells": [
  {
   "cell_type": "code",
   "execution_count": 6,
   "id": "d60a2804",
   "metadata": {},
   "outputs": [
    {
     "name": "stdout",
     "output_type": "stream",
     "text": [
      "Oversampling and saving complete.\n"
     ]
    }
   ],
   "source": [
    "import os\n",
    "import cv2\n",
    "import numpy as np\n",
    "from sklearn.model_selection import train_test_split\n",
    "from sklearn.preprocessing import LabelEncoder\n",
    "from imblearn.over_sampling import SMOTE\n",
    "\n",
    "# Define the parent folder containing subfolders with images\n",
    "parent_folder = \"dataset\"  # Change to your parent folder path\n",
    "\n",
    "# Define the output folder for augmented data (including oversampled images)\n",
    "output_folder = \"augmented_dataset_smote\"  # Change to your desired output folder\n",
    "\n",
    "# Initialize lists to store data and labels\n",
    "data = []\n",
    "labels = []\n",
    "\n",
    "# Iterate through subfolders in the parent folder\n",
    "for subfolder in os.listdir(parent_folder):\n",
    "    subfolder_path = os.path.join(parent_folder, subfolder)\n",
    "\n",
    "    # Check if the subfolder is a directory\n",
    "    if os.path.isdir(subfolder_path):\n",
    "        # Iterate through image files in the current subfolder\n",
    "        for image_file in os.listdir(subfolder_path):\n",
    "            image_path = os.path.join(subfolder_path, image_file)\n",
    "\n",
    "            # Load the original image using OpenCV\n",
    "            image = cv2.imread(image_path)\n",
    "\n",
    "            if image is not None:\n",
    "                # Flatten the image into a one-dimensional feature vector\n",
    "                flattened_image = image.flatten()\n",
    "\n",
    "                # Append the flattened image data to the data list\n",
    "                data.append(flattened_image)\n",
    "\n",
    "                # Append the label to the labels list (subfolder name)\n",
    "                labels.append(subfolder)\n",
    "\n",
    "# Convert data and labels to numpy arrays\n",
    "X = np.array(data)\n",
    "y = np.array(labels)\n",
    "\n",
    "# Encode labels as integers\n",
    "label_encoder = LabelEncoder()\n",
    "y = label_encoder.fit_transform(y)\n",
    "\n",
    "# Split the data into training and testing sets\n",
    "X_train, X_test, y_train, y_test = train_test_split(X, y, test_size=0.2, random_state=42)\n",
    "\n",
    "# Apply SMOTE oversampling to the flattened training data\n",
    "smote = SMOTE(random_state=42)\n",
    "X_train_resampled, y_train_resampled = smote.fit_resample(X_train, y_train)\n",
    "\n",
    "# Create a subfolder in the output folder for oversampled data\n",
    "os.makedirs(output_folder, exist_ok=True)\n",
    "\n",
    "# Iterate through oversampled images and save them\n",
    "for i, (image_data, label) in enumerate(zip(X_train_resampled, y_train_resampled)):\n",
    "    # Reshape the flattened image data to its original shape\n",
    "    image = image_data.reshape(image.shape[0], image.shape[1], image.shape[2])\n",
    "\n",
    "    # Create a subfolder for the class (label)\n",
    "    class_folder = os.path.join(output_folder, label_encoder.inverse_transform([label])[0])\n",
    "    os.makedirs(class_folder, exist_ok=True)\n",
    "\n",
    "    # Define the filename for the oversampled image\n",
    "    filename = f\"oversampled_{i}.jpg\"\n",
    "    image_path = os.path.join(class_folder, filename)\n",
    "\n",
    "    # Save the oversampled image\n",
    "    cv2.imwrite(image_path, image)\n",
    "\n",
    "print(\"Oversampling and saving complete.\")\n"
   ]
  },
  {
   "cell_type": "code",
   "execution_count": null,
   "id": "81412629",
   "metadata": {},
   "outputs": [],
   "source": []
  }
 ],
 "metadata": {
  "kernelspec": {
   "display_name": "myenv",
   "language": "python",
   "name": "mynev"
  },
  "language_info": {
   "codemirror_mode": {
    "name": "ipython",
    "version": 3
   },
   "file_extension": ".py",
   "mimetype": "text/x-python",
   "name": "python",
   "nbconvert_exporter": "python",
   "pygments_lexer": "ipython3",
   "version": "3.9.13"
  }
 },
 "nbformat": 4,
 "nbformat_minor": 5
}
