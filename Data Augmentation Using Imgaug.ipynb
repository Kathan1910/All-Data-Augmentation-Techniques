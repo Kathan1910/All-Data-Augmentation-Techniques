{
 "cells": [
  {
   "cell_type": "code",
   "execution_count": 2,
   "id": "b6418e23",
   "metadata": {},
   "outputs": [
    {
     "name": "stdout",
     "output_type": "stream",
     "text": [
      "Collecting imgaug\n",
      "  Using cached imgaug-0.4.0-py2.py3-none-any.whl (948 kB)\n",
      "Requirement already satisfied: scipy in c:\\users\\kathan\\anaconda3\\envs\\myenv\\lib\\site-packages (from imgaug) (1.9.1)\n",
      "Requirement already satisfied: opencv-python in c:\\users\\kathan\\anaconda3\\envs\\myenv\\lib\\site-packages (from imgaug) (4.8.0.76)\n",
      "Requirement already satisfied: scikit-image>=0.14.2 in c:\\users\\kathan\\anaconda3\\envs\\myenv\\lib\\site-packages (from imgaug) (0.20.0)\n",
      "Requirement already satisfied: six in c:\\users\\kathan\\anaconda3\\envs\\myenv\\lib\\site-packages (from imgaug) (1.15.0)\n",
      "Requirement already satisfied: matplotlib in c:\\users\\kathan\\anaconda3\\envs\\myenv\\lib\\site-packages (from imgaug) (3.4.3)\n",
      "Requirement already satisfied: Shapely in c:\\users\\kathan\\anaconda3\\envs\\myenv\\lib\\site-packages (from imgaug) (2.0.1)\n",
      "Requirement already satisfied: numpy>=1.15 in c:\\users\\kathan\\anaconda3\\envs\\myenv\\lib\\site-packages (from imgaug) (1.22.4)\n",
      "Requirement already satisfied: Pillow in c:\\users\\kathan\\anaconda3\\envs\\myenv\\lib\\site-packages (from imgaug) (9.2.0)\n",
      "Requirement already satisfied: imageio in c:\\users\\kathan\\anaconda3\\envs\\myenv\\lib\\site-packages (from imgaug) (2.28.0)\n",
      "Requirement already satisfied: PyWavelets>=1.1.1 in c:\\users\\kathan\\anaconda3\\envs\\myenv\\lib\\site-packages (from scikit-image>=0.14.2->imgaug) (1.3.0)\n",
      "Requirement already satisfied: tifffile>=2019.7.26 in c:\\users\\kathan\\anaconda3\\envs\\myenv\\lib\\site-packages (from scikit-image>=0.14.2->imgaug) (2023.4.12)\n",
      "Requirement already satisfied: packaging>=20.0 in c:\\users\\kathan\\anaconda3\\envs\\myenv\\lib\\site-packages (from scikit-image>=0.14.2->imgaug) (21.3)\n",
      "Requirement already satisfied: lazy_loader>=0.1 in c:\\users\\kathan\\anaconda3\\envs\\myenv\\lib\\site-packages (from scikit-image>=0.14.2->imgaug) (0.2)\n"
     ]
    },
    {
     "name": "stderr",
     "output_type": "stream",
     "text": [
      "WARNING: Ignoring invalid distribution -rotobuf (c:\\users\\kathan\\anaconda3\\envs\\myenv\\lib\\site-packages)\n",
      "WARNING: Ignoring invalid distribution -rotobuf (c:\\users\\kathan\\anaconda3\\envs\\myenv\\lib\\site-packages)\n",
      "WARNING: Ignoring invalid distribution -rotobuf (c:\\users\\kathan\\anaconda3\\envs\\myenv\\lib\\site-packages)\n",
      "WARNING: Ignoring invalid distribution -rotobuf (c:\\users\\kathan\\anaconda3\\envs\\myenv\\lib\\site-packages)\n",
      "WARNING: Ignoring invalid distribution -rotobuf (c:\\users\\kathan\\anaconda3\\envs\\myenv\\lib\\site-packages)\n",
      "WARNING: Ignoring invalid distribution -rotobuf (c:\\users\\kathan\\anaconda3\\envs\\myenv\\lib\\site-packages)\n",
      "WARNING: Ignoring invalid distribution -rotobuf (c:\\users\\kathan\\anaconda3\\envs\\myenv\\lib\\site-packages)\n"
     ]
    },
    {
     "name": "stdout",
     "output_type": "stream",
     "text": [
      "Requirement already satisfied: networkx>=2.8 in c:\\users\\kathan\\anaconda3\\envs\\myenv\\lib\\site-packages (from scikit-image>=0.14.2->imgaug) (2.8.6)\n",
      "Requirement already satisfied: cycler>=0.10 in c:\\users\\kathan\\anaconda3\\envs\\myenv\\lib\\site-packages (from matplotlib->imgaug) (0.11.0)\n",
      "Requirement already satisfied: kiwisolver>=1.0.1 in c:\\users\\kathan\\anaconda3\\envs\\myenv\\lib\\site-packages (from matplotlib->imgaug) (1.4.2)\n",
      "Requirement already satisfied: python-dateutil>=2.7 in c:\\users\\kathan\\anaconda3\\envs\\myenv\\lib\\site-packages (from matplotlib->imgaug) (2.8.2)\n",
      "Requirement already satisfied: pyparsing>=2.2.1 in c:\\users\\kathan\\anaconda3\\envs\\myenv\\lib\\site-packages (from matplotlib->imgaug) (3.0.9)\n",
      "Installing collected packages: imgaug\n",
      "Successfully installed imgaug-0.4.0\n"
     ]
    }
   ],
   "source": [
    "!pip install imgaug\n"
   ]
  },
  {
   "cell_type": "code",
   "execution_count": 6,
   "id": "acaf3ad5",
   "metadata": {},
   "outputs": [
    {
     "name": "stdout",
     "output_type": "stream",
     "text": [
      "Data augmentation for all folders using imgaug complete.\n"
     ]
    }
   ],
   "source": [
    "import os\n",
    "import cv2\n",
    "import imgaug as ia\n",
    "import imgaug.augmenters as iaa\n",
    "from imgaug.augmentables.batches import UnnormalizedBatch\n",
    "\n",
    "# Define the parent folder containing subfolders with images\n",
    "parent_folder = \"dataset\"  # Change to your parent folder path\n",
    "\n",
    "# Define the output folder for augmented data\n",
    "output_folder = \"augmented_dataset_imgaug\"  # Change to your desired folder for augmented data\n",
    "\n",
    "# List of augmentation techniques to apply\n",
    "augmentation_techniques = {\n",
    "    \"rotate\": (0, 360),\n",
    "    \"flip_horizontal\": (1,),\n",
    "    \"flip_vertical\": (0,),\n",
    "    \"brightness_increase\": (1.2,),\n",
    "    \"brightness_decrease\": (0.8,),\n",
    "    \"contrast_increase\": (1.5,),\n",
    "    \"contrast_decrease\": (0.5,),\n",
    "}\n",
    "\n",
    "# Create the output folder if it doesn't exist\n",
    "os.makedirs(output_folder, exist_ok=True)\n",
    "\n",
    "# Initialize imgaug augmenter\n",
    "seq = iaa.Sequential([\n",
    "    iaa.Sometimes(0.5, iaa.Rotate(rotate=(-45, 45))),\n",
    "    iaa.Sometimes(0.5, iaa.Multiply((0.7, 1.3))),\n",
    "    iaa.Sometimes(0.5, iaa.ContrastNormalization((0.5, 2.0))),\n",
    "])\n",
    "\n",
    "# Iterate through subfolders in the parent folder\n",
    "for subfolder in os.listdir(parent_folder):\n",
    "    subfolder_path = os.path.join(parent_folder, subfolder)\n",
    "\n",
    "    # Check if the subfolder is a directory\n",
    "    if os.path.isdir(subfolder_path):\n",
    "        # Create a subfolder in the output folder for the current subfolder\n",
    "        output_subfolder = os.path.join(output_folder, subfolder)\n",
    "        os.makedirs(output_subfolder, exist_ok=True)\n",
    "\n",
    "        # Iterate through image files in the current subfolder\n",
    "        for image_file in os.listdir(subfolder_path):\n",
    "            image_path = os.path.join(subfolder_path, image_file)\n",
    "\n",
    "            # Load the original image using OpenCV\n",
    "            image = cv2.imread(image_path)\n",
    "\n",
    "            if image is not None:\n",
    "                # Convert image to imgaug format\n",
    "                batch = UnnormalizedBatch(images=[image])\n",
    "\n",
    "                # Apply augmentation\n",
    "                augmented_images = list(seq.augment_batches([batch]))[0].images_aug\n",
    "\n",
    "                # Save augmented images\n",
    "                for i, augmented_image in enumerate(augmented_images):\n",
    "                    augmented_image_path = os.path.join(output_subfolder, f\"{image_file}_{i}.jpg\")\n",
    "                    cv2.imwrite(augmented_image_path, augmented_image)\n",
    "            else:\n",
    "                print(\"Error loading image:\", image_path)\n",
    "\n",
    "print(\"Data augmentation for all folders using imgaug complete.\")"
   ]
  },
  {
   "cell_type": "markdown",
   "id": "c435379b",
   "metadata": {},
   "source": [
    "## Another Technique"
   ]
  },
  {
   "cell_type": "code",
   "execution_count": 7,
   "id": "d5d50900",
   "metadata": {},
   "outputs": [
    {
     "name": "stdout",
     "output_type": "stream",
     "text": [
      "Augmented 286 images for class: Dermatitis\n",
      "Augmented 6 images for class: Tracion alopecia\n",
      "Data augmentation for all folders using imgaug complete.\n"
     ]
    }
   ],
   "source": [
    "import os\n",
    "import cv2\n",
    "import imgaug as ia\n",
    "import imgaug.augmenters as iaa\n",
    "from imgaug.augmentables.batches import UnnormalizedBatch\n",
    "\n",
    "# Define the parent folder containing subfolders with images\n",
    "parent_folder = \"dataset\"  # Change to your parent folder path\n",
    "\n",
    "# Define the output folder for augmented data\n",
    "output_folder = \"augmented_dataset_imgaug_2\"  # Change to your desired folder for augmented data\n",
    "\n",
    "# List of augmentation techniques to apply\n",
    "augmentation_techniques = {\n",
    "    \"rotate\": (0, 360),\n",
    "    \"flip_horizontal\": (1,),\n",
    "    \"flip_vertical\": (0,),\n",
    "    \"brightness_increase\": (1.2,),\n",
    "    \"brightness_decrease\": (0.8,),\n",
    "    \"contrast_increase\": (1.5,),\n",
    "    \"contrast_decrease\": (0.5,),\n",
    "}\n",
    "\n",
    "# Create the output folder if it doesn't exist\n",
    "os.makedirs(output_folder, exist_ok=True)\n",
    "\n",
    "# Initialize imgaug augmenter\n",
    "seq = iaa.Sequential([\n",
    "    iaa.Sometimes(0.5, iaa.Rotate(rotate=(-45, 45))),\n",
    "    iaa.Sometimes(0.5, iaa.Multiply((0.7, 1.3))),\n",
    "    iaa.Sometimes(0.5, iaa.ContrastNormalization((0.5, 2.0))),\n",
    "])\n",
    "\n",
    "# Track the number of augmented images per class\n",
    "class_counts = {}\n",
    "\n",
    "# Iterate through subfolders in the parent folder\n",
    "for subfolder in os.listdir(parent_folder):\n",
    "    subfolder_path = os.path.join(parent_folder, subfolder)\n",
    "\n",
    "    # Check if the subfolder is a directory\n",
    "    if os.path.isdir(subfolder_path):\n",
    "        # Create a subfolder in the output folder for the current subfolder\n",
    "        output_subfolder = os.path.join(output_folder, subfolder)\n",
    "        os.makedirs(output_subfolder, exist_ok=True)\n",
    "\n",
    "        # Initialize class count for this subfolder\n",
    "        class_counts[subfolder] = 0\n",
    "\n",
    "        # Iterate through image files in the current subfolder\n",
    "        for image_file in os.listdir(subfolder_path):\n",
    "            image_path = os.path.join(subfolder_path, image_file)\n",
    "\n",
    "            # Load the original image using OpenCV\n",
    "            image = cv2.imread(image_path)\n",
    "\n",
    "            if image is not None:\n",
    "                # Convert image to imgaug format\n",
    "                batch = UnnormalizedBatch(images=[image])\n",
    "\n",
    "                # Apply augmentation\n",
    "                augmented_images = list(seq.augment_batches([batch]))[0].images_aug\n",
    "\n",
    "                # Save augmented images\n",
    "                for i, augmented_image in enumerate(augmented_images):\n",
    "                    augmented_image_path = os.path.join(output_subfolder, f\"{image_file}_{i}.jpg\")\n",
    "                    cv2.imwrite(augmented_image_path, augmented_image)\n",
    "\n",
    "                    # Update class count\n",
    "                    class_counts[subfolder] += 1\n",
    "\n",
    "        print(f\"Augmented {class_counts[subfolder]} images for class: {subfolder}\")\n",
    "\n",
    "print(\"Data augmentation for all folders using imgaug complete.\")\n"
   ]
  },
  {
   "cell_type": "code",
   "execution_count": null,
   "id": "c795dc3f",
   "metadata": {},
   "outputs": [],
   "source": []
  }
 ],
 "metadata": {
  "kernelspec": {
   "display_name": "myenv",
   "language": "python",
   "name": "mynev"
  },
  "language_info": {
   "codemirror_mode": {
    "name": "ipython",
    "version": 3
   },
   "file_extension": ".py",
   "mimetype": "text/x-python",
   "name": "python",
   "nbconvert_exporter": "python",
   "pygments_lexer": "ipython3",
   "version": "3.9.13"
  }
 },
 "nbformat": 4,
 "nbformat_minor": 5
}
